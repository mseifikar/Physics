{
 "cells": [
  {
   "cell_type": "markdown",
   "metadata": {},
   "source": [
    "# Fourier series for a square wave"
   ]
  },
  {
   "cell_type": "code",
   "execution_count": 1,
   "metadata": {},
   "outputs": [],
   "source": [
    "%matplotlib inline\n",
    "import numpy as np\n",
    "import matplotlib.pyplot as plt\n",
    "import matplotlib.pylab as pylab\n",
    "params = {'font.size' : 16 }\n",
    "pylab.rcParams.update(params)"
   ]
  },
  {
   "cell_type": "markdown",
   "metadata": {},
   "source": [
    "Implement the true square shape"
   ]
  },
  {
   "cell_type": "code",
   "execution_count": 2,
   "metadata": {},
   "outputs": [],
   "source": [
    "def square(x):\n",
    "    y = np.zeros(len(x))\n",
    "    for i in range(len(x)):\n",
    "        if (x[i]/(2*np.pi)) % 1 < 0.50:\n",
    "            y[i] = 1.0\n",
    "    return y"
   ]
  },
  {
   "cell_type": "markdown",
   "metadata": {},
   "source": [
    "Test the function"
   ]
  },
  {
   "cell_type": "code",
   "execution_count": 3,
   "metadata": {
    "scrolled": true
   },
   "outputs": [
    {
     "data": {
      "image/png": "[encoded data removed]",
      "text/plain": [
       "<Figure size 1080x288 with 1 Axes>"
      ]
     },
     "metadata": {
      "needs_background": "light"
     },
     "output_type": "display_data"
    }
   ],
   "source": [
    "N = 1000\n",
    "x = np.linspace(-10.0, 10.0, N)\n",
    "\n",
    "plt.figure(figsize=(15,4))\n",
    "\n",
    "ax=plt.subplot(1, 1, 1)\n",
    "        \n",
    "plt.plot(x, square(x))\n",
    "ax.grid(True)\n",
    "ax.set_ylim(-0.2, 1.2)\n",
    "a = plt.xlabel('x')"
   ]
  },
  {
   "cell_type": "markdown",
   "metadata": {},
   "source": [
    "# Fourier terms for square wave"
   ]
  },
  {
   "cell_type": "code",
   "execution_count": 4,
   "metadata": {},
   "outputs": [],
   "source": [
    "def cosTerm(n):\n",
    "    # Always zero except for n=0\n",
    "    if n==0: return 1.0\n",
    "    return 0.\n",
    "\n",
    "def sinTerm(n):\n",
    "\n",
    "    if n%2: # n modulo 2 = 1 (True) then Odd\n",
    "        ret = 2. / (n* np.pi)\n",
    "    else:\n",
    "        ret = 0.\n",
    "    return ret"
   ]
  },
  {
   "cell_type": "code",
   "execution_count": 5,
   "metadata": {},
   "outputs": [],
   "source": [
    "def fourier(n,x):\n",
    "    #a_0 term, remember 1/2\n",
    "    sum = cosTerm(0)/2.0 * np.ones(len(x))\n",
    "    \n",
    "    #all other terms\n",
    "    for i in range(1, n+1):\n",
    "        sum += sinTerm(i)*np.sin(i*x) + cosTerm(i)*np.cos(i*x)\n",
    "    return sum"
   ]
  },
  {
   "cell_type": "markdown",
   "metadata": {},
   "source": [
    "Demonstrate that the implementation is working"
   ]
  },
  {
   "cell_type": "code",
   "execution_count": 6,
   "metadata": {},
   "outputs": [],
   "source": [
    "def squarePlot(logmaxterm):\n",
    "\n",
    "    import math\n",
    "    \n",
    "    maxterm = int(math.exp(logmaxterm)/2)\n",
    "    \n",
    "    N = 20*maxterm+100\n",
    "    x = np.linspace(-10.0, 10.0, N)\n",
    "\n",
    "    plt.figure(figsize=(15,12))\n",
    "\n",
    "    ax=plt.subplot(1, 1, 1)\n",
    "        \n",
    "    plt.plot(x, fourier(maxterm,x))\n",
    "    ax.set_ylim(-0.2, 1.2)\n",
    "    ax.grid(True)\n",
    "    plt.xlabel('x')\n",
    "    plt.legend(['n = %d' % maxterm])"
   ]
  },
  {
   "cell_type": "code",
   "execution_count": 7,
   "metadata": {
    "scrolled": false
   },
   "outputs": [
    {
     "data": {
      "application/vnd.jupyter.widget-view+json": {
       "model_id": "40519a7b5f7542909c3c0ed0d41522dc",
       "version_major": 2,
       "version_minor": 0
      },
      "text/plain": [
       "interactive(children=(IntSlider(value=0, description='Terms', max=10), Output()), _dom_classes=('widget-intera…"
      ]
     },
     "metadata": {},
     "output_type": "display_data"
    }
   ],
   "source": [
    "#make a slider widget using the function\n",
    "import ipywidgets as widgets\n",
    "\n",
    "widgets.interact(squarePlot, logmaxterm=widgets.IntSlider(description='Terms',value=0,min=0,max=10,step=1));\n"
   ]
  },
  {
   "cell_type": "code",
   "execution_count": null,
   "metadata": {},
   "outputs": [],
   "source": []
  }
 ],
 "metadata": {
  "kernelspec": {
   "display_name": "Python 3",
   "language": "python",
   "name": "python3"
  },
  "language_info": {
   "codemirror_mode": {
    "name": "ipython",
    "version": 3
   },
   "file_extension": ".py",
   "mimetype": "text/x-python",
   "name": "python",
   "nbconvert_exporter": "python",
   "pygments_lexer": "ipython3",
   "version": "3.7.4"
  }
 },
 "nbformat": 4,
 "nbformat_minor": 1
}
